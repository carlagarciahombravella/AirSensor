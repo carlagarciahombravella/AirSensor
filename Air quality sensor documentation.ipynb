{
 "cells": [
  {
   "cell_type": "markdown",
   "metadata": {},
   "source": [
    "# Air quality sensor documentation"
   ]
  },
  {
   "source": [
    "## <u>Components</u>"
   ],
   "cell_type": "markdown",
   "metadata": {}
  },
  {
   "cell_type": "markdown",
   "metadata": {},
   "source": [
    "## 1. Hardware\n",
    "#### Composed by the SM300D2-V02 sensor, connected to a Raspberry Pi3B\n",
    "<img src=\"./Images/RBSCon.png\" width=\"500\"/>\n"
   ]
  },
  {
   "cell_type": "markdown",
   "metadata": {},
   "source": [
    "### 1.1. SM300D2-V02 Air Quality Sensor\n",
    "-\tIt is a seven-in-one sensor module that collects and outputs CO2, formaldehyde, TVOC, PM2.5, PM10, temperature and humidity data. \n",
    "-\tIt adopts two output modes of RS485 bus and UART TTL level.\n",
    "-\tThe temperature is accurate to 0.1 ℃, and the humidity is accurate to 0.1% relative humidity.\n",
    "-\tIt outputs automatically the seven data parameters every second.\n",
    "-\tSpecifications:"
   ]
  },
  {
   "cell_type": "markdown",
   "metadata": {},
   "source": [
    "**Name**|**Resolution**|**Range**|**Accuracy**\n",
    ":-------|:------------:|:-------:|:----------:\n",
    "eCO2||440ppm~5000ppm|±50ppm\n",
    "eCH2O|1ug/m<sup>3</sup>|1ug~1000ug|\n",
    "TVOC|1ug/m<sup>3</sup>|0ug~2000ug|\n",
    "PM2.5|0.8ug/m<sup>3</sup>|5ug~1000ug|±10%\n",
    "PM10||5ug~1000ug|±10%\n",
    "Temperature|0.01ºC|-40ºC~125ºC|±0.5%ºC\n",
    "Humidity|0.04%|0~100%|±3%RH"
   ]
  },
  {
   "cell_type": "markdown",
   "metadata": {},
   "source": [
    "**Name**|**Specification**\n",
    ":-------|:---------------:\n",
    "Physical interface| ZH1.5-4\n",
    "Output Data| UART-RS485\n",
    "Operating Voltage|5.0±0.2VDC\n",
    "Working current|≤60mA\n",
    "Preheat time| 2 min\n",
    "Operating temperature|0ºC~50ºC\n",
    "Working humidity|≤95%RH\n",
    "Dimensions|55.8x50x19.5mm (LxWxH)\n",
    "Service life|5 years (in the air)"
   ]
  },
  {
   "cell_type": "markdown",
   "metadata": {},
   "source": [
    "### 1.2. RaspberryPi3B"
   ]
  },
  {
   "source": [
    "##Explicació alguna cosa de la RB??"
   ],
   "cell_type": "code",
   "metadata": {},
   "execution_count": null,
   "outputs": []
  },
  {
   "cell_type": "markdown",
   "metadata": {},
   "source": [
    "### 1.3. RaspberryPi3B-Sensor connection\n",
    "We connected the sensor with the RB through the rs485 connectors:  \n",
    "  \n",
    "  <img src=\"./Images/connections.png\" width=\"500\"/>  \n",
    "\n",
    "Three wires are used to connect the RB and the sensor. In the image above, the upper part are the RBPi 3B connections and the bottom part shows the sensor connections. \n",
    "- The red wire connected to the sensor is the 5V power supply, which is connected to the 2nd RB pin (orange wire). \n",
    "- The black wire connected to the sensor sends data to the RB, this wire is connected to the 6th RB pin (yellow wire). \n",
    "- The green wire connected to the sensor is GND. It is connnected to the GND pin of the RB through the green wire. \n",
    "\n",
    "The rs485 connector that is not used in this case receives data from the RB in other applications."
   ]
  },
  {
   "cell_type": "markdown",
   "metadata": {},
   "source": [
    "## 2. Software"
   ]
  },
  {
   "cell_type": "markdown",
   "metadata": {},
   "source": [
    "### 2.1. On Raspberry Pi 3B\n",
    "The installed software on the RB is the following:\n",
    "\n",
    "- **VNC Viewer connector**: needed to connect the RB to the computer through VNC Viewer. This will allow visualising RB desktop in your computer.   \n",
    "- **Thonny**: used as a programming environment, using python language. The scripts were used to:\n",
    "    -\tReceive data from the sensor\n",
    "    -\tSend data to localhost and AWS (Amazon Web Services)"
   ]
  },
  {
   "cell_type": "markdown",
   "metadata": {},
   "source": [
    "### 2.2. On your PC\n",
    "Raspberry remote desktop:\n",
    "- VNC Viewer  \n",
    "\n",
    "Database visualization and manipulation:\n",
    "- DBeaver (not strictly necessary)\n",
    "- VSCode\n",
    "\n",
    "Data visualization (website):\n",
    "- NODE RED\n",
    "- UBIDOTS"
   ]
  },
  {
   "cell_type": "markdown",
   "metadata": {},
   "source": [
    "## <u>Steps</u>"
   ]
  },
  {
   "source": [
    "## 1. Visualization of the Raspberry Remote Desktop in your PC"
   ],
   "cell_type": "markdown",
   "metadata": {}
  },
  {
   "cell_type": "markdown",
   "metadata": {},
   "source": [
    "### Connect RB Pi3B to VNC Viewer: RB Remote Desktop VNC\n",
    "1. On your RB:\n",
    "\n",
    "- To begin, open up the raspi-config tool by running the following command: sudo raspi-config\n",
    "- Within the configuration tool, use the arrow keys to scroll down to \"2. Display Options\" and \"D1. Resolution\"\n",
    "- Select the desired resolution. Usually DMT Mode 82 1920x1080 60Hz 16:9\n",
    "- Press OK\n",
    "- Within the configuration tool, use the arrow keys to scroll down to \"3. Interface Options\" and \"P3. VNC\"\n",
    "- Select VNC enable\n",
    "- Press OK and reboot\n",
    "\n",
    "2. On your PC, where you want to visualize the desktop of your RB:\n",
    "\n",
    "- First, you need to download VNC Viewer on your computer at https://www.realvnc.com/es/connect/download/viewer/raspberrypi/ \n",
    "\n",
    "- IP Adress:  \n",
    "The connection to visualize the RB desktop in the VNC Viewer application, is made with IP adress of your RB. Therefore you must have Wi-Fi or ethernet connection on your RB to use VNC. \n",
    "To discover your IP adress, the easiest way is to connect the RB to a screen, mouse and keyboard.  \n",
    "If you like, you can set a fixed IP address for ethernet and Wi-Fi connections, so you always know which IP to connect to, instead of checking it every time you need to connect.  \n",
    "To fix the IP adress on your RB:  \n",
    "  - Right-click on the network settings icon. It is the two arrows icon, on the top right corner of the screen.  \n",
    "  - Select *Wireless & Wired Network Settings*. A new window pops up showing your network preferences.  \n",
    "  - On the second drop-down select eth0. Fill the *IPv4 Address* with the desired IP address fot the ethernet connection.  \n",
    "  - Click *Apply*  \n",
    "  - On the second drop-down select wlan0. Fill the *IPv4 Address* with the desired IP address fot the Wi-Fi connection.  \n",
    "  - Click *Apply*  \n",
    "  - Close the window\n",
    "\n",
    "Now that the RB IP address is fixed, open VNC Viewer on your computer, and introduce the fixed IP address on the top bar (\"*Enter a VNC Server address or search*\"). Keep in mind that the IP address you have to connect to, depends on the type of connection: if RB is connected through ethernet port to the network, insert the eth0 fixed IP address, if it is connected through Wi-Fi, use the wlan0 IP address. "
   ]
  },
  {
   "source": [
    "## 2. Previous RB downloads, installations or configuration settings"
   ],
   "cell_type": "markdown",
   "metadata": {}
  },
  {
   "cell_type": "markdown",
   "metadata": {},
   "source": [
    "### Download Thonny ide for Python in the RB  \n",
    "Open the RB terminal and run the lines:  \n",
    "`sudo apt-get update`  \n",
    "`sudo apt-get install python3-thonny`  "
   ]
  },
  {
   "cell_type": "markdown",
   "metadata": {},
   "source": [
    "### Install mysql.connect module on RB  \n",
    "Open the RB terminal and run the line:  \n",
    "`sudo apt install python{,3}-mysql.connector`"
   ]
  },
  {
   "cell_type": "markdown",
   "metadata": {},
   "source": [
    "### Make sure your Serial Port Interface is enabled in your RB (where the data from the sensor is coming from):\n",
    "- Serial Port needs to be enabled or activated  \n",
    "(Note: I found that when wanting to extract the sensor data using the python code, the permission was denied for opening the ttyS0 port.  \n",
    "If you have the same problem, try disableling the Serial Console).\n",
    "\n"
   ]
  },
  {
   "source": [
    "## 3. Code and company\n",
    "There are four python scripts involved in the process that are run in the RB:  \n",
    "CodiAdq.py, FuncionsSensor.py, FuncioMariaDB.py and FuncionsUbidots.py. "
   ],
   "cell_type": "markdown",
   "metadata": {}
  },
  {
   "source": [
    "### 3.1. CodiAdq.py\n",
    "Main script. It calls out functions defined in the other three (FuncionsSensor.py, FuncionMariaDB.py and FuncionsUbidots.py) when it is executed."
   ],
   "cell_type": "markdown",
   "metadata": {}
  },
  {
   "cell_type": "markdown",
   "metadata": {},
   "source": [
    "#### 3.1.1. Run CodiAdq.py at boot: how to set the RB to execute the CodiAdq.py at its boot\n",
    "This an interesting feature because our RB-Sensor set is expected to be on top of an AGV robot. Of course, we are not going to be capable of constantly accessing and entering the RB to execute the code. It is therefore important that the created adquisition system executes constantly just by being connected to a current source.  \n",
    "  \n",
    "- Access the _/home/pi/.bashrc_ script\n",
    "- Add the following lines at the end of the script:  \n",
    "`echo Running at boot`  \n",
    "`sudo python /home/pi/Desktop/Air_Sensor/CodiAdq.py`\n",
    "- Reboot the RB to apply the configurated changes"
   ]
  },
  {
   "source": [
    "### 3.2. FuncionsSensor.py\n",
    "Contains the necessary functions to retrieve the data from the sensor.\n"
   ],
   "cell_type": "markdown",
   "metadata": {}
  },
  {
   "source": [
    "### 3.3. FuncioMariaDB.py\n",
    "Contains two functions that send the air quality obtained data to be stored to two MariaDB databases:  \n",
    "A local MariaDB database and a Amazon Web Service MariaDB database."
   ],
   "cell_type": "markdown",
   "metadata": {}
  },
  {
   "cell_type": "code",
   "execution_count": null,
   "metadata": {},
   "outputs": [],
   "source": [
    "def localDB_function(sDB, dvar): #sDB is the name of the database and dvar is a dictionary with all the variables\n",
    "        #mariadb connection\n",
    "    db = mysql.connect(host=\"192.168.1.120\", user=\"user\",passwd=\"password\",database=sDB) \n",
    "    cursor = db.cursor() \n",
    "        \n",
    "        #insert information\n",
    "    sql_insert = \"INSERT INTO AirQuality (Time, CO2, Formaldehyde, TVOC, PM25, PM10, Temperature, Humidity) VALUES (%s, %s, %s, %s, %s, %s, %s, %s)\"\n",
    "    cursor.execute(sql_insert,(dvar['Temps'], dvar['CO2'], dvar['Formaldehil'], dvar['TVOC'],dvar['PM25'], dvar['PM10'], dvar['Temperatura'], dvar['Humitat'])) \n",
    "        \n",
    "        #send to database\n",
    "    db.commit()  \n",
    "    cursor.close()\n",
    "    db.close()"
   ]
  },
  {
   "source": [
    "Where:  \n",
    "host, user and password should be changed to yours.  \n",
    "AirQuality is the name of the table  \n",
    "*Time, CO2, Formaldehyde, TVOC, PM25, PM10, Temperature, Humidity* are the variables, which will be columns in DBeaver. "
   ],
   "cell_type": "markdown",
   "metadata": {}
  },
  {
   "source": [
    "def awsDB_function(sawsDB, dvar):\n",
    "    awsdb = mysql.connect(host=\"database-aws.cflrhzjjvpu3.eu-west-2.rds.amazonaws.com\", user=\"euss\",passwd=\"raspberrypi\",database=sawsDB)\n",
    "    awsCursor = dbaws.cursor() \n",
    "\n",
    "\n",
    "            #insert information\n",
    "    aws_insert = \"INSERT INTO AWSMariaDB (Time, CO2, Formaldehyde, TVOC, PM25, PM10, Temperature, Humidity) VALUES (%s, %s, %s, %s, %s, %s, %s, %s)\"\n",
    "    awsCursor.execute(aws_insert,(dvar['Temps'], dvar['CO2'], dvar['Formaldehil'], dvar['TVOC'], dvar['PM25'], dvar['PM10'], dvar['Temperatura'], dvar['Humitat'])) \n",
    "            #it is sent to the database\n",
    "    awsdb.commit()\n",
    "    awsCursor.close()\n",
    "    awsdb.close()"
   ],
   "cell_type": "code",
   "metadata": {},
   "execution_count": null,
   "outputs": []
  },
  {
   "source": [
    "Where:  \n",
    "host (endpoint), user (master username), passwd (master password), databse (initial database name).\n",
    "AWSMariaDB is the name of the table you will have created in your AWS database.  \n",
    "*Time, CO2, Formaldehyde, TVOC, PM25, PM10, Temperature, Humidity* are the columns (or variables) of your data.  \n",
    "  \n",
    "! Make sure the name of the created table (next step) corresponds to the name of the table in which you are inserting data with the awsDB_function()"
   ],
   "cell_type": "markdown",
   "metadata": {}
  },
  {
   "source": [
    "#### 3.3.1. Creation of local and AWS MariaDB accounts and databases\n",
    "In order to store the data to a table in these ddbb, it is firstly necessary to create them:  \n",
    "  \n",
    "  a) **Local MariaDB database: ** \n",
    "    \n",
    "In our case, we used already existing MariaDB account with the following credentials:\n",
    "  - user = \"euss\"\n",
    "  - password = \"rasppi\"\n",
    "  _(the creation of the database will be done at 3.3.2.)_\n",
    "\n",
    "b) **Amazon Web Services: RDS: MariaDB database:  **\n",
    "\n",
    "  1. Create an AWS account\n",
    "  2. Create a database, following the instructions from: https://docs.aws.amazon.com/AmazonRDS/latest/UserGuide/USER_CreateDBInstance.html\n",
    "    \n",
    "    _(Take note of your Endpoint, Master username, your Master password and the initial DB name, as they will be necessary in further steps.)_\n",
    "\n",
    "  "
   ],
   "cell_type": "markdown",
   "metadata": {}
  },
  {
   "source": [
    "#### 3.3.2. Visualization of the databases with DBeaver and VSCode\n",
    "These two tools will be used for:\n",
    "- Creation of the local database\n",
    "- Creation of a table in both local and AWS databases\n",
    "- VISUALIZATION of the data\n",
    "\n"
   ],
   "cell_type": "markdown",
   "metadata": {}
  },
  {
   "cell_type": "markdown",
   "metadata": {},
   "source": [
    "#### 3.3.2.1. DBeaver  \n",
    "1. Download DBeaver  \n",
    "2. Open DBeaver and select *New Connection*. \n",
    "3. Select MariaDB and click *Next*\n",
    "4. Fill:\n",
    "- Server Host: IP address (local) or Endpoint (AWS)\n",
    "- Username: \"euss\" (local) or Master username (AWS) \n",
    "- Password: \"rasppi\" (local) or Master password (AWS)\n",
    "5. (Step only for the local database) In databases folder, create a new database.\n",
    "6. Inside the database, create a new table in the tables folder (\"AirQuality\", in this case)\n",
    "<img src=\"./Images/createt.png\" width=\"300\"/>\n",
    "7. In the new table, create all the needed columns (variables). \n",
    "8. Also create a constraint defining an id as a primary key  \n",
    "<img src=\"./Images/createt2.png\" width=\"700\"/>  \n",
    "  \n",
    "Once the connection is well stablished, when running the CodiAdq.py script, the readings will appear in the table. "
   ]
  },
  {
   "source": [
    "#### 3.3.2.2. Visual Studio Code\n",
    "To visualize your data at VSCode:  \n",
    "- Download the _SQL Tools_ extension\n",
    "- A database icon will appear at the left vertical bar of your VSCode window: click there.\n",
    "- On connections, create a new connection:[Captura%20de%20pantalla%202021-05-26%20a%20las%2022.51.11.png](attachment:Captura%20de%20pantalla%202021-05-26%20a%20las%2022.51.11.png)\n",
    "- Select MariaDB\n",
    "- Fill the connection settings:\n",
    "    Connection name: it is the name that you give to your connection in VSCode (up to you)\n",
    "    Server Adress: url of the AWS db instance (or rb IP if you are connecting the local database)\n",
    "    Port: 3306\n",
    "    Database: (initial name of your database)\n",
    "    Username: master username\n",
    "    Use password: Save password (recommended)\n",
    "    Password: master password\n",
    "- Test your connection and save it\n",
    "- Your connection should now appear under \"CONNECTIONS\"!"
   ],
   "cell_type": "markdown",
   "metadata": {}
  },
  {
   "cell_type": "markdown",
   "metadata": {},
   "source": [
    "UBIDOTS\n",
    "\n",
    "user: ubeussair\n",
    "\n",
    "mail: cgarciho55@alumnes.ub.edu\n",
    "\n",
    "pw: UBair1234"
   ]
  },
  {
   "cell_type": "markdown",
   "metadata": {},
   "source": []
  }
 ],
 "metadata": {
  "kernelspec": {
   "display_name": "Python 3",
   "language": "python",
   "name": "python3"
  },
  "language_info": {
   "codemirror_mode": {
    "name": "ipython",
    "version": 3
   },
   "file_extension": ".py",
   "mimetype": "text/x-python",
   "name": "python",
   "nbconvert_exporter": "python",
   "pygments_lexer": "ipython3",
   "version": "3.7.4"
  }
 },
 "nbformat": 4,
 "nbformat_minor": 4
}