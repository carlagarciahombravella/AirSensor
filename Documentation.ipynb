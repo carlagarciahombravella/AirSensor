{
 "cells": [
  {
   "cell_type": "markdown",
   "metadata": {},
   "source": [
    "# Air quality sensor documentation"
   ]
  },
  {
   "source": [
    "## <u>Components</u>"
   ],
   "cell_type": "markdown",
   "metadata": {}
  },
  {
   "cell_type": "markdown",
   "metadata": {},
   "source": [
    "## 1. Hardware\n",
    "#### Composed by the SM300D2-V02 sensor, connected to a Raspberry Pi3B\n",
    "<img src=\"./Images/RBSCon.png\" width=\"500\"/>\n"
   ]
  },
  {
   "cell_type": "markdown",
   "metadata": {},
   "source": [
    "### 1.1. SM300D2-V02 Air Quality Sensor\n",
    "-\tIt is a seven-in-one sensor module that collects and outputs CO2, formaldehyde, TVOC, PM2.5, PM10, temperature and humidity data.  \n",
    "\n",
    "-\tIt adopts two output modes of RS485 bus and UART TTL level.  \n",
    "\n",
    "-\tThe temperature is accurate to 0.1 ℃, and the humidity is accurate to 0.1% relative humidity.  \n",
    "\n",
    "-\tIt outputs automatically the seven data parameters every second.   \n",
    "\n",
    "-\tSpecifications:"
   ]
  },
  {
   "cell_type": "markdown",
   "metadata": {},
   "source": [
    "**Name**|**Resolution**|**Range**|**Accuracy**\n",
    ":-------|:------------:|:-------:|:----------:\n",
    "eCO2||440ppm~5000ppm|±50ppm\n",
    "eCH2O|1ug/m<sup>3</sup>|1ug~1000ug|\n",
    "TVOC|1ug/m<sup>3</sup>|0ug~2000ug|\n",
    "PM2.5|0.8ug/m<sup>3</sup>|5ug~1000ug|±10%\n",
    "PM10||5ug~1000ug|±10%\n",
    "Temperature|0.01ºC|-40ºC~125ºC|±0.5%ºC\n",
    "Humidity|0.04%|0~100%|±3%RH"
   ]
  },
  {
   "cell_type": "markdown",
   "metadata": {},
   "source": [
    "**Name**|**Specification**\n",
    ":-------|:---------------:\n",
    "Physical interface| ZH1.5-4\n",
    "Output Data| UART-RS485\n",
    "Operating Voltage|5.0±0.2VDC\n",
    "Working current|≤60mA\n",
    "Preheat time| 2 min\n",
    "Operating temperature|0ºC~50ºC\n",
    "Working humidity|≤95%RH\n",
    "Dimensions|55.8x50x19.5mm (LxWxH)\n",
    "Service life|5 years (in the air)"
   ]
  },
  {
   "cell_type": "markdown",
   "metadata": {},
   "source": [
    "### 1.2. RaspberryPi3B"
   ]
  },
  {
   "source": [
    "In our case we used an USB, instead of a SD card, as the memory of our RaspberryPi, as it is known to have a larger lifespan. If you aim to do the same, just download the Raspberry Pi operating system with the Raspberry Pi Imager in a USB."
   ],
   "cell_type": "markdown",
   "metadata": {}
  },
  {
   "cell_type": "markdown",
   "metadata": {},
   "source": [
    "### 1.3. RaspberryPi3B-Sensor connection\n",
    "We connected the sensor with the RB through the rs485 connectors:  \n",
    "  \n",
    "  <img src=\"./Images/connections.png\" width=\"500\"/>  \n",
    "\n",
    "Three wires are used to connect the RB and the sensor. In the image above, the upper part are the RBPi 3B connections and the bottom part shows the sensor connections. \n",
    "- The red wire connected to the sensor is the 5V power supply, which is connected to the 2nd RB pin (orange wire)  \n",
    "\n",
    "- The black wire connected to the sensor sends data to the RB, this wire is connected to the 6th RB pin (yellow wire)  \n",
    "\n",
    "- The green wire connected to the sensor is GND. It is connnected to the GND pin of the RB through the green wire  \n",
    "\n",
    "\n",
    "The rs485 connector that is not used in this case receives data from the RB in other applications."
   ]
  },
  {
   "cell_type": "markdown",
   "metadata": {},
   "source": [
    "## 2. Software"
   ]
  },
  {
   "cell_type": "markdown",
   "metadata": {},
   "source": [
    "### 2.1. On Raspberry Pi 3B\n",
    "The software used as a python ide:\n",
    "\n",
    "- **Thonny**: used as a programming environment, using python language. The scripts were used to:  \n",
    "    -\tReceive and read data from the sensor\n",
    "    -\tSend data to localhost and AWS (Amazon Web Services)\n",
    "    -   Interchange data with Ubidots"
   ]
  },
  {
   "cell_type": "markdown",
   "metadata": {},
   "source": [
    "### 2.2. On your PC\n",
    "\n",
    "Raspberry remote desktop:\n",
    "- VNC Viewer\n",
    "\n",
    "Database visualization and manipulation:\n",
    "- DBeaver (not strictly necessary)  \n",
    "\n",
    "- VSCode\n",
    "\n",
    "Data visualization (website):\n",
    "- UBIDOTS"
   ]
  },
  {
   "cell_type": "markdown",
   "metadata": {},
   "source": [
    "## <u>Steps - to do</u>"
   ]
  },
  {
   "source": [
    "## 1. Visualization of the Raspberry Remote Desktop in your PC"
   ],
   "cell_type": "markdown",
   "metadata": {}
  },
  {
   "cell_type": "markdown",
   "metadata": {},
   "source": [
    "### Connect RB Pi3B to VNC Viewer: RB Remote Desktop VNC\n",
    "1. On your RB:\n",
    "\n",
    "- To begin, open up the raspi-config tool by running the following command: sudo raspi-config\n",
    "- Within the configuration tool, use the arrow keys to scroll down to \"2. Display Options\" and \"D1. Resolution\"\n",
    "- Select the desired resolution. Usually DMT Mode 82 1920x1080 60Hz 16:9\n",
    "- Press OK\n",
    "- Within the configuration tool, use the arrow keys to scroll down to \"3. Interface Options\" and \"P3. VNC\"\n",
    "- Select VNC enable\n",
    "- Press OK and reboot\n",
    "\n",
    "2. On your PC, where you want to visualize the desktop of your RB:\n",
    "\n",
    "- First, you need to download VNC Viewer on your computer at https://www.realvnc.com/es/connect/download/viewer/raspberrypi/ \n",
    "\n",
    "- IP Adress:  \n",
    "The connection to visualize the RB desktop in the VNC Viewer application, is made with IP adress of your RB. Therefore you must have Wi-Fi or ethernet connection on your RB to use VNC. \n",
    "To discover your IP adress, the easiest way is to connect the RB to a screen, mouse and keyboard.  \n",
    "If you like, you can set a fixed IP address for ethernet and Wi-Fi connections, so you always know which IP to connect to, instead of checking it every time you need to connect.  \n",
    "To fix the IP adress on your RB:  \n",
    "  - Right-click on the network settings icon. It is the two arrows icon, on the top right corner of the screen.  \n",
    "  - Select *Wireless & Wired Network Settings*. A new window pops up showing your network preferences.  \n",
    "  - On the second drop-down select eth0. Fill the *IPv4 Address* with the desired IP address fot the ethernet connection.  \n",
    "  - Click *Apply*  \n",
    "  - On the second drop-down select wlan0. Fill the *IPv4 Address* with the desired IP address fot the Wi-Fi connection.  \n",
    "  - Click *Apply*  \n",
    "  - Close the window\n",
    "\n",
    "Now that the RB IP address is fixed, open VNC Viewer on your computer, and introduce the fixed IP address on the top bar (\"*Enter a VNC Server address or search*\"). Keep in mind that the IP address you have to connect to, depends on the type of connection: if RB is connected through ethernet port to the network, insert the eth0 fixed IP address, if it is connected through Wi-Fi, use the wlan0 IP address. "
   ]
  },
  {
   "source": [
    "## 2. Previous RB downloads, installations or configuration settings"
   ],
   "cell_type": "markdown",
   "metadata": {}
  },
  {
   "cell_type": "markdown",
   "metadata": {},
   "source": [
    "### Download Thonny ide for Python in the RB  \n",
    "Open the RB terminal and run the lines:  \n",
    "`sudo apt-get update`  \n",
    "`sudo apt-get install python3-thonny`  "
   ]
  },
  {
   "cell_type": "markdown",
   "metadata": {},
   "source": [
    "### Install mysql.connect module on RB  \n",
    "Open the RB terminal and run the line:  \n",
    "`sudo apt install python{,3}-mysql.connector`"
   ]
  },
  {
   "cell_type": "markdown",
   "metadata": {},
   "source": [
    "### Make sure your Serial Port Interface is enabled in your RB (where the data from the sensor is coming from):\n",
    "- Serial Port needs to be enabled or activated  \n",
    "(Note: I found that when wanting to extract the sensor data using the python code, the permission was denied for opening the ttyS0 port.  \n",
    "If you have the same problem, try disableling the Serial Console).\n",
    "\n"
   ]
  },
  {
   "source": [
    "## 3. Code\n",
    "There are four python scripts involved in the process that are run in the RB:  \n",
    "  \n",
    "CodiAdq.py, FuncionsSensor.py, FuncioMariaDB.py and FuncionsUbidots.py. "
   ],
   "cell_type": "markdown",
   "metadata": {}
  },
  {
   "source": [
    "### 3.1. CodiAdq.py\n",
    "Main script. It calls out functions defined in the other three (FuncionsSensor.py, FuncionMariaDB.py and FuncionsUbidots.py) when it is executed.  \n",
    "\n",
    "The main function is `sensor_reading()` that returns a dicctionary with the measures of the thread. The thread of `sensor_reading()` executed every 5 seconds."
   ],
   "cell_type": "markdown",
   "metadata": {}
  },
  {
   "cell_type": "markdown",
   "metadata": {},
   "source": [
    "#### 3.1.1. Run CodiAdq.py at boot: how to set the RB to execute the CodiAdq.py at its boot\n",
    "\n",
    "_Leave this step for the end: it is recomended to be done after having done everything else when everything is working and ready_\n",
    "\n",
    "It is an interesting feature because our RB-Sensor set is expected to be on top of an AGV robot. Of course, we are not going to be capable of constantly accessing and entering the RB to execute the code. It is therefore important that the created adquisition system executes constantly just by being connected to a current source.  \n",
    "  \n",
    "- Open the .bashrc script with the nano editor:  \n",
    "`sudo nano /home/pi/.bashrc`\n",
    "\n",
    "- Add the following lines at the end of the script:  \n",
    "`echo Running at boot`  \n",
    "`sudo python /home/pi/Desktop/Air_Sensor/CodiAdq.py`  \n",
    "(if your CodiAdq.py has a different path del arxiu, you must change \"/home..../\" for it)\n",
    "\n",
    "- \"Crt + O\" to save the changes  \n",
    "  \n",
    "  \n",
    "- Reboot the RB to apply the configurated changes"
   ]
  },
  {
   "source": [
    "### 3.2. FuncionsSensor.py\n",
    "Contains the necessary functions to retrieve the data from the sensor.  \n",
    " \n",
    "_Nothing needs to be changed in this script and no additional steps need to be followed._"
   ],
   "cell_type": "markdown",
   "metadata": {}
  },
  {
   "source": [
    "### 3.3. FuncioMariaDB.py\n",
    "Contains two functions that send the air quality obtained data to be stored to two MariaDB databases.  \n",
    "\n",
    "A local MariaDB database and a Amazon Web Service MariaDB database:"
   ],
   "cell_type": "markdown",
   "metadata": {}
  },
  {
   "cell_type": "code",
   "execution_count": null,
   "metadata": {},
   "outputs": [],
   "source": [
    "def localDB_function(sDB, dvar): #sDB is the name of the database and dvar is a dictionary with all the variables\n",
    "        #mariadb connection\n",
    "    db = mysql.connect(host=\"localhost\", user=\"user\",passwd=\"password\",database=sDB) \n",
    "    cursor = db.cursor() \n",
    "        \n",
    "        #insert information\n",
    "    sql_insert = \"INSERT INTO AirQuality (Time, CO2, Formaldehyde, TVOC, PM25, PM10, Temperature, Humidity) VALUES (%s, %s, %s, %s, %s, %s, %s, %s)\"\n",
    "    cursor.execute(sql_insert,(dvar['Temps'], dvar['CO2'], dvar['Formaldehil'], dvar['TVOC'],dvar['PM25'], dvar['PM10'], dvar['Temperatura'], dvar['Humitat'])) \n",
    "        \n",
    "        #send to database\n",
    "    db.commit()  \n",
    "    cursor.close()\n",
    "    db.close()"
   ]
  },
  {
   "source": [
    "Where:  \n",
    "  \n",
    "host, user and password should be changed to yours.  \n",
    "AirQuality is the name of the table  \n",
    "*Time, CO2, Formaldehyde, TVOC, PM25, PM10, Temperature, Humidity* are the variables, which will be columns in DBeaver. "
   ],
   "cell_type": "markdown",
   "metadata": {}
  },
  {
   "source": [
    "def awsDB_function(sawsDB, dvar):\n",
    "    awsdb = mysql.connect(host=\"endpoint url\", user=\"master username\",passwd=\"master password\",database=sawsDB)\n",
    "    awsCursor = dbaws.cursor() \n",
    "\n",
    "\n",
    "            #insert information\n",
    "    aws_insert = \"INSERT INTO AWSMariaDB (Time, CO2, Formaldehyde, TVOC, PM25, PM10, Temperature, Humidity) VALUES (%s, %s, %s, %s, %s, %s, %s, %s)\"\n",
    "    awsCursor.execute(aws_insert,(dvar['Temps'], dvar['CO2'], dvar['Formaldehil'], dvar['TVOC'], dvar['PM25'], dvar['PM10'], dvar['Temperatura'], dvar['Humitat'])) \n",
    "            #it is sent to the database\n",
    "    awsdb.commit()\n",
    "    awsCursor.close()\n",
    "    awsdb.close()"
   ],
   "cell_type": "code",
   "metadata": {},
   "execution_count": null,
   "outputs": []
  },
  {
   "source": [
    "Where:  \n",
    " \n",
    "host (endpoint), user (master username), passwd (master password), databse (initial database name).\n",
    "AWSMariaDB is the name of the table you will have created in your AWS database.  \n",
    "*Time, CO2, Formaldehyde, TVOC, PM25, PM10, Temperature, Humidity* are the columns (or variables) of your data.  \n",
    "  \n",
    "! Make sure the name of the created table (next step) corresponds to the name of the table in which you are inserting data with the awsDB_function()"
   ],
   "cell_type": "markdown",
   "metadata": {}
  },
  {
   "source": [
    "#### 3.3.1. Creation of local and AWS MariaDB accounts and databases\n",
    "In order to store the data to a table in these ddbb, it is firstly necessary to create them:  \n",
    "  \n",
    "  a) **Local MariaDB database: ** \n",
    "    \n",
    "In our case, we used already existing MariaDB account with the following credentials:\n",
    "  - user = \"euss\"\n",
    "  - password = \"rasppi\"\n",
    "  _(the creation of the database will be done at 3.3.2.)_\n",
    "\n",
    "b) **Amazon Web Services: RDS: MariaDB database:  **\n",
    "\n",
    "  1. Create an AWS account\n",
    "  2. Create a database, following the instructions from: https://docs.aws.amazon.com/AmazonRDS/latest/UserGuide/USER_CreateDBInstance.html  \n",
    "  At step 6, choose MariaDB.  \n",
    "    \n",
    "\n",
    "  \n",
    "\n",
    "  *Take note of your Endpoint, Master username, your Master password and the initial DB name, as they will be necessary in further steps*. \n",
    "      \n",
    "      \n",
    "Important:  \n",
    "\n",
    "Beware that the free features of AWS are only free under certain conditions. Your free trial at AWS lasts up to 12 months. But besides this, there are certain tools that have a capacity limit which, if exeeded, will be charged (despite still being under your free trial).  \n",
    "    In our case, our DB instance has a certain capacity limit. When the 85% of the free usage limit is exceeded, you will recieve an email (AWS Free Tier limit alert).  \n",
    "\n",
    "To avoid exeeding the limit (and being charged), you need to terminate your running instances:  \n",
    "1. Open the console at https://console.aws.amazon.com/ec2/  \n",
    "2. Select \"Instances\" (\"Instancias (en ejecución))\"  \n",
    "3. Select the running instances  \n",
    "4. Go to Instance state (\"Estado de la instancia\"): Terminate instance (\"Terminar\")"
   ],
   "cell_type": "markdown",
   "metadata": {}
  },
  {
   "source": [
    "#### 3.3.2. Visualization of the databases with DBeaver and VSCode\n",
    "These two tools will be used for the:  \n",
    "\n",
    "- Creation of the local database  \n",
    "\n",
    "- Creation of a table in both local and AWS databases  \n",
    "\n",
    "- VISUALIZATION of the data\n",
    "\n",
    "Note: everything that is done with DBeaver can also be done with VSCode. It is therefore not necessary to have the two of them: you can chose one."
   ],
   "cell_type": "markdown",
   "metadata": {}
  },
  {
   "cell_type": "markdown",
   "metadata": {},
   "source": [
    "#### 3.3.2.1. DBeaver  \n",
    "1. Download DBeaver  \n",
    "\n",
    "2. Open DBeaver and select *New Connection*. \n",
    "\n",
    "3. Select MariaDB and click *Next*. \n",
    "\n",
    "4. Fill:\n",
    "- Server Host: IP address (local) or Endpoint (AWS)\n",
    "- Username: \"euss\" (local) or Master username (AWS) \n",
    "- Password: \"rasppi\" (local) or Master password (AWS). \n",
    "\n",
    "5. (Step only for the local database) In databases folder, create a new database.  \n",
    "\n",
    "6. Inside the database, create a new table in the tables folder (\"AirQuality\", in this case)  \n",
    "\n",
    "<img src=\"./Images/createt.png\" width=\"300\"/>. \n",
    "\n",
    "7. In the new table, create all the needed columns (variables).  \n",
    "\n",
    "8. Also create a constraint defining an id as a primary key  \n",
    " \n",
    "<img src=\"./Images/createt2.png\" width=\"700\"/>.  \n",
    "\n",
    "Once the connection is well stablished, when running the CodiAdq.py script, the readings will appear in the table. "
   ]
  },
  {
   "source": [
    "#### 3.3.2.2. Visual Studio Code\n",
    "To visualize your data at VSCode:  \n",
    "- Download the _SQL Tools_ extension  \n",
    "\n",
    "- A database icon will appear at the left vertical bar of your VSCode window: click there. \n",
    "\n",
    "- On connections, create a new connection:  \n",
    "<img src=\"./Images/newconnection.png\" width=\"300\"/>. \n",
    "\n",
    "- Select MariaDB. \n",
    "\n",
    "- Fill the connection settings:\n",
    "    Connection name: it is the name that you give to your connection in VSCode (up to you)\n",
    "    Server Adress: url of the AWS db instance (or rb IP if you are connecting the local database)\n",
    "    Port: 3306\n",
    "    Database: (initial name of your database)\n",
    "    Username: master username\n",
    "    Use password: Save password (recommended)\n",
    "    Password: master password. \n",
    "\n",
    "- Test your connection and save it. \n",
    "\n",
    "- Your connection should now appear under \"CONNECTIONS\"!\n",
    "\n",
    "- If you have not done it with DBeaver, follow steps 5, 6, 7 and 8 of the previous instructions (3.3.2.1)  "
   ],
   "cell_type": "markdown",
   "metadata": {}
  },
  {
   "source": [
    "### 3.3. FuncionsUbidots.py\n",
    "To visualize the data nicely (plots, tables, etc) from any other device, the Ubidots platform was used. \n",
    "This permits sending values obtained from the sensor from the RB python script to Ubidots. At Ubidots, a user-friendly dashboard can be created to visualize this data.  \n",
    "Additionally, it is also possible to retrieve data from ubidots to the python script. This permits creating and activating a kind of actuator.  \n",
    "  \n",
    "The FuncionsUbidots.py script contains the functions that send and retrieve, in other words, interchange data between our python scripts and ubidots.\n"
   ],
   "cell_type": "markdown",
   "metadata": {}
  },
  {
   "source": [
    "#### 3.3.1. Ubidots Account\n",
    "Go to https://industrial.ubidots.com/accounts/signin/ and sign up or log into your account.  \n",
    "  \n",
    "The account that we have been using has the following credentials:  \n",
    "  \n",
    "user: ubeussair  \n",
    "mail: andreacostagutierrez@gmail.com \n",
    "password: UBair1234\n",
    "  \n",
    "  In order to interchange data, another important credential is your account TOKEN. It is the Ubidots account identifier that we will use in python scripts.  \n",
    "go to the user dropdown button and go to API credentials."
   ],
   "cell_type": "markdown",
   "metadata": {}
  },
  {
   "cell_type": "markdown",
   "metadata": {},
   "source": [
    "#### 3.3.2. FuncionsUbidots.py and CodiAdq.py\n",
    "It is important to change your TOKEN, DEVICE_LABEL and VARIABLE at CodiAdq.py if you are using another account.  \n",
    "\n",
    "If you are using a brand new account, you do not have to necessarily create the device at ubidots before executing the code. If the device you have specified to send data to (DEVICE_LABEL) does not appear on your ubidots account, a device with that name will be automatically created when executing the code.  \n",
    "\n",
    "Note that free accounts can have maxium of three devices: if you try to upload data to a fourth device, you will encounter an error."
   ]
  },
  {
   "source": [
    "#### 3.3.2.1 Sending data to Ubidots  \n",
    "The python scripts send the measured data to the specified device (DEVICE_LABEL) of your Ubidots account (TOKEN), where it is kept in different variables. Below we can see an Ubidots example of the variables of the device named AirRubotMecanum:  \n",
    "\n",
    "   <img src=\"./Images/variablesdevice.png\" width=\"700\"/>\n"
   ],
   "cell_type": "markdown",
   "metadata": {}
  },
  {
   "source": [
    "#### 3.3.2.2. Obtaining data from Ubidots - Switch actuator\n",
    "In order to have a control of the RB-Sensor module from any PC, a switch variable at Ubidots can be created at the dashboard:  \n",
    "  \n",
    "<img src=\"./Images/switch.png\" width=\"300\"/>.   <img src=\"./Images/switch2.png\" width=\"300\"/>\n",
    "  \n",
    "  Our switch variable takes the value 1 when it's on, and the value 0 when it's off.\n",
    "    \n",
    "  At FuncionsUbidots.py, the `get_var()` function, retrieves the value of a given variable of your Ubidots account. As it can be seen at CodiAdq.py, we use the function to obtain the value of this switch variable.  \n",
    "\n",
    "We have stablished a condition in which the measuring thread (`sensor_reading()` function) is only executed if the switch variable takes a value of 1 (if the switch at ubidots is on).  \n",
    "Therefore, we can control the data measurment through this button at the ubidots url."
   ],
   "cell_type": "markdown",
   "metadata": {}
  },
  {
   "source": [
    "#### 3.3.3. Sharing Ubidots URL\n",
    "\n",
    "Once everything is ready, it is interesting to share the url to any user so that they can access the dashboard (not the account, just the dashboard).  \n",
    "At Ubidots:\n",
    "- Go to the Dashboards list drawer and select the \"share\" icon \n",
    "- Click the \"copy\" icon to copy the dashboard's public URL to the clipboard\n",
    "- Anywone who pastes the copied public URL into a web browser tab will be taken to our dashboard  \n",
    "  \n",
    "  For example, our interface (where the data can be visualized and the air sensor activity can be controlled) is at https://stem.ubidots.com/app/dashboards/public/dashboard/bfSkjwxrNwNfR5va6jaEctTSrvuV4ZK-XjLaqv9-7Oc "
   ],
   "cell_type": "markdown",
   "metadata": {}
  }
 ],
 "metadata": {
  "kernelspec": {
   "display_name": "Python 3",
   "language": "python",
   "name": "python3"
  },
  "language_info": {
   "codemirror_mode": {
    "name": "ipython",
    "version": 3
   },
   "file_extension": ".py",
   "mimetype": "text/x-python",
   "name": "python",
   "nbconvert_exporter": "python",
   "pygments_lexer": "ipython3",
   "version": "3.7.4"
  }
 },
 "nbformat": 4,
 "nbformat_minor": 4
}